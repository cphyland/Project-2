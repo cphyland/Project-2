{
 "cells": [
  {
   "cell_type": "markdown",
   "source": [
    "## Observations and Insights "
   ],
   "metadata": {}
  },
  {
   "cell_type": "markdown",
   "source": [],
   "metadata": {}
  },
  {
   "cell_type": "code",
   "execution_count": 3,
   "source": [
    "# Dependencies and Setup\r\n",
    "import matplotlib.pyplot as plt\r\n",
    "import pandas as pd\r\n",
    "import scipy.stats as st\r\n",
    "from scipy.stats import linregress\r\n",
    "from scipy.stats import sem\r\n",
    "import numpy as np\r\n",
    "\r\n",
    "# Study data files\r\n",
    "sharks_metadata_path = \"data/sharks/sharks_cleaned.csv\"\r\n",
    "\r\n",
    "# Read the shark data\r\n",
    "sharks_metadata = pd.read_csv(sharks_metadata_path)\r\n",
    "\r\n",
    "# Display the data table for preview\r\n",
    "sharks_metadata.head()"
   ],
   "outputs": [
    {
     "output_type": "execute_result",
     "data": {
      "text/plain": [
       "   Unnamed: 0 InteractionValue  InteractionId SightingSpeciesValue  \\\n",
       "0          36          sighted              1          unknown sp.   \n",
       "1          37          sighted              1                white   \n",
       "2          39          sighted              1          unknown sp.   \n",
       "3          40          sighted              1          unknown sp.   \n",
       "4          41          sighted              1                white   \n",
       "\n",
       "      SightingDateTime     OwnerValue  LocationX  LocationY  \n",
       "0  2021-06-30T16:10:47  Public report    115.736   -32.5050  \n",
       "1  2021-06-30T08:57:04  Public report    115.186   -34.3263  \n",
       "2  2021-06-28T10:30:54  Public report    115.059   -33.5457  \n",
       "3  2021-06-27T14:00:20  Public report    115.629   -33.3272  \n",
       "4  2021-06-26T10:00:10  Public report    117.160   -35.0381  "
      ],
      "text/html": [
       "<div>\n",
       "<style scoped>\n",
       "    .dataframe tbody tr th:only-of-type {\n",
       "        vertical-align: middle;\n",
       "    }\n",
       "\n",
       "    .dataframe tbody tr th {\n",
       "        vertical-align: top;\n",
       "    }\n",
       "\n",
       "    .dataframe thead th {\n",
       "        text-align: right;\n",
       "    }\n",
       "</style>\n",
       "<table border=\"1\" class=\"dataframe\">\n",
       "  <thead>\n",
       "    <tr style=\"text-align: right;\">\n",
       "      <th></th>\n",
       "      <th>Unnamed: 0</th>\n",
       "      <th>InteractionValue</th>\n",
       "      <th>InteractionId</th>\n",
       "      <th>SightingSpeciesValue</th>\n",
       "      <th>SightingDateTime</th>\n",
       "      <th>OwnerValue</th>\n",
       "      <th>LocationX</th>\n",
       "      <th>LocationY</th>\n",
       "    </tr>\n",
       "  </thead>\n",
       "  <tbody>\n",
       "    <tr>\n",
       "      <th>0</th>\n",
       "      <td>36</td>\n",
       "      <td>sighted</td>\n",
       "      <td>1</td>\n",
       "      <td>unknown sp.</td>\n",
       "      <td>2021-06-30T16:10:47</td>\n",
       "      <td>Public report</td>\n",
       "      <td>115.736</td>\n",
       "      <td>-32.5050</td>\n",
       "    </tr>\n",
       "    <tr>\n",
       "      <th>1</th>\n",
       "      <td>37</td>\n",
       "      <td>sighted</td>\n",
       "      <td>1</td>\n",
       "      <td>white</td>\n",
       "      <td>2021-06-30T08:57:04</td>\n",
       "      <td>Public report</td>\n",
       "      <td>115.186</td>\n",
       "      <td>-34.3263</td>\n",
       "    </tr>\n",
       "    <tr>\n",
       "      <th>2</th>\n",
       "      <td>39</td>\n",
       "      <td>sighted</td>\n",
       "      <td>1</td>\n",
       "      <td>unknown sp.</td>\n",
       "      <td>2021-06-28T10:30:54</td>\n",
       "      <td>Public report</td>\n",
       "      <td>115.059</td>\n",
       "      <td>-33.5457</td>\n",
       "    </tr>\n",
       "    <tr>\n",
       "      <th>3</th>\n",
       "      <td>40</td>\n",
       "      <td>sighted</td>\n",
       "      <td>1</td>\n",
       "      <td>unknown sp.</td>\n",
       "      <td>2021-06-27T14:00:20</td>\n",
       "      <td>Public report</td>\n",
       "      <td>115.629</td>\n",
       "      <td>-33.3272</td>\n",
       "    </tr>\n",
       "    <tr>\n",
       "      <th>4</th>\n",
       "      <td>41</td>\n",
       "      <td>sighted</td>\n",
       "      <td>1</td>\n",
       "      <td>white</td>\n",
       "      <td>2021-06-26T10:00:10</td>\n",
       "      <td>Public report</td>\n",
       "      <td>117.160</td>\n",
       "      <td>-35.0381</td>\n",
       "    </tr>\n",
       "  </tbody>\n",
       "</table>\n",
       "</div>"
      ]
     },
     "metadata": {},
     "execution_count": 3
    }
   ],
   "metadata": {}
  },
  {
   "cell_type": "code",
   "execution_count": 7,
   "source": [
    "# Checking the number of sharks.\r\n",
    "shark = sharks_metadata[\"SightingSpeciesValue\"]\r\n",
    "total_sharks = len(shark)\r\n",
    "\r\n",
    "pd.DataFrame({\"Number of Sharks\": [total_sharks]})"
   ],
   "outputs": [
    {
     "output_type": "execute_result",
     "data": {
      "text/plain": [
       "   Number of Sharks\n",
       "0              1007"
      ],
      "text/html": [
       "<div>\n",
       "<style scoped>\n",
       "    .dataframe tbody tr th:only-of-type {\n",
       "        vertical-align: middle;\n",
       "    }\n",
       "\n",
       "    .dataframe tbody tr th {\n",
       "        vertical-align: top;\n",
       "    }\n",
       "\n",
       "    .dataframe thead th {\n",
       "        text-align: right;\n",
       "    }\n",
       "</style>\n",
       "<table border=\"1\" class=\"dataframe\">\n",
       "  <thead>\n",
       "    <tr style=\"text-align: right;\">\n",
       "      <th></th>\n",
       "      <th>Number of Sharks</th>\n",
       "    </tr>\n",
       "  </thead>\n",
       "  <tbody>\n",
       "    <tr>\n",
       "      <th>0</th>\n",
       "      <td>1007</td>\n",
       "    </tr>\n",
       "  </tbody>\n",
       "</table>\n",
       "</div>"
      ]
     },
     "metadata": {},
     "execution_count": 7
    }
   ],
   "metadata": {}
  },
  {
   "cell_type": "code",
   "execution_count": 9,
   "source": [
    "sharks_metadata.groupby(\"SightingSpeciesValue\").agg"
   ],
   "outputs": [
    {
     "output_type": "execute_result",
     "data": {
      "text/plain": [
       "<bound method DataFrameGroupBy.aggregate of <pandas.core.groupby.generic.DataFrameGroupBy object at 0x0000017A82E2A970>>"
      ]
     },
     "metadata": {},
     "execution_count": 9
    }
   ],
   "metadata": {}
  },
  {
   "cell_type": "code",
   "execution_count": 27,
   "source": [
    "shark_count = sharks_metadata.groupby([\"SightingSpeciesValue\"]).agg({'SightingSpeciesValue':'count'})\r\n",
    "\r\n",
    "bar_chart = shark_count.plot(kind = 'bar',figsize =(12,8), width = 0.8, legend = False, rot = 0)\r\n",
    "\r\n",
    "plt.title(\"Shark Species: Australia Sightings\")\r\n",
    "plt.xlabel(\"Shark Species Type\")\r\n",
    "plt.ylabel(\"# of Sharks\")\r\n",
    "\r\n",
    "pd.DataFrame.plot(shark_count)"
   ],
   "outputs": [
    {
     "output_type": "execute_result",
     "data": {
      "text/plain": [
       "<pandas.plotting._core.PlotAccessor object at 0x0000017A80FAC1F0>"
      ]
     },
     "metadata": {},
     "execution_count": 27
    },
    {
     "output_type": "display_data",
     "data": {
      "text/plain": [
       "<Figure size 864x576 with 1 Axes>"
      ],
      "image/png": "[encoded data removed]"
     },
     "metadata": {
      "needs_background": "light"
     }
    }
   ],
   "metadata": {}
  }
 ],
 "metadata": {
  "anaconda-cloud": {},
  "kernelspec": {
   "name": "python3",
   "display_name": "Python 3.8.5 64-bit ('base': conda)"
  },
  "language_info": {
   "codemirror_mode": {
    "name": "ipython",
    "version": 3
   },
   "file_extension": ".py",
   "mimetype": "text/x-python",
   "name": "python",
   "nbconvert_exporter": "python",
   "pygments_lexer": "ipython3",
   "version": "3.8.5"
  },
  "interpreter": {
   "hash": "ab59e8833a1c1a953fc61f7ebdf031460480fd348b396cef269440458dbce55f"
  }
 },
 "nbformat": 4,
 "nbformat_minor": 4
}